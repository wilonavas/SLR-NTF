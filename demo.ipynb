{
 "cells": [
  {
   "cell_type": "code",
   "execution_count": null,
   "id": "enhanced-vegetation",
   "metadata": {},
   "outputs": [],
   "source": [
    "import numpy as np\n",
    "import scipy.io as sio \n",
    "import math\n",
    "import matplotlib.pyplot as plt\n",
    "from ntfmodel import *\n",
    "from utils import *\n"
   ]
  },
  {
   "cell_type": "code",
   "execution_count": null,
   "id": "valued-fluid",
   "metadata": {},
   "outputs": [],
   "source": [
    "##########################################################################-----\n",
    "# Load hsi in matlab format\n",
    "datapath = '../data/'\n",
    "\n",
    "trials = range(3)\n",
    "\n",
    "# filenames = ['h01-samson', 'h02-jasper','h03-urban','h03-urban6']\n",
    "filename = 'h01-samson'\n",
    "             \n",
    "parms = LrModelParameters()\n",
    "parms.lrate = 0.001\n",
    "parms.MaxDelta = 1e-8\n",
    "AbundanceThreshold = 0.95\n",
    "\n",
    "# Load and plot input HSI\n",
    "matdict = sio.loadmat(datapath + fn)\n",
    "Yin = matdict['hsiten']\n",
    "Ymax = np.max(Yin)\n",
    "Yn = Yin/Ymax\n",
    "# Normalize with inifinity norm along spectral dimension\n",
    "Ynorm = np.linalg.norm(Yn, ord=np.inf, axis=2, keepdims=True)\n",
    "Y = Yn/Ynorm\n",
    "# plt.imshow(hsi2rgb(Y,rgb=True))\n",
    "# plt.show()\n",
    "\n",
    "# Get reference endmembers and expected\n",
    "# Low rank spectral parameter R\n",
    "Sgt = matdict['Sgt']\n",
    "Sname = matdict['Sname']\n",
    "[I,J,K] = Y.shape\n",
    "[K,R] = Sgt.shape\n",
    "\n",
    "# Compute Spatial low rank parameter Lr\n",
    "Lr = int(np.maximum(I,J)**2/(R*K))\n",
    "print(f'[I,J,K]=>[{I},{J},{K}]   [Lr,R]=>[{Lr},{R}]')"
   ]
  },
  {
   "cell_type": "code",
   "execution_count": null,
   "id": "damaged-martin",
   "metadata": {},
   "outputs": [],
   "source": [
    "for i in trials:\n",
    "    # Instanciate Model\n",
    "    model = LrModel(Y,Lr,R,seed=i,parms=parms)\n",
    "    results = model.run_optimizer()\n",
    "    (cost_vector, delta, it, et) = results\n",
    "    str1 = f'[I,J,K]=>[{I},{J},{K}]  [Lr,R]=>[{Lr},{R}] '\n",
    "    str2 = f'|{cost_vector[-1]:10.3e} |{delta:10.3e} '\n",
    "    str3 = f'|{it:10d} |{it/et:7.1f} |{et:5.0f}'\n",
    "    print(str1 + str2 + str3)\n",
    "    # plt.semilogy(cost_vector)\n",
    "    # plt.show()\n",
    "\n",
    "    # Compute endmembers using spatial components\n",
    "    # and reconstructed tensor\n",
    "    Sprime = get_endmembers(model, \n",
    "        AbundanceThreshold,\n",
    "        norms=1.,\n",
    "        fromtarget=AbundanceFromTarget)\n",
    "\n",
    "    # Compare to reference (ground truth data\n",
    "    # Reorder endmembers according to closest match\n",
    "    (Sprime,p) = reorder(Sprime,Sgt)\n",
    "    plot_decomposition(model,Sgt,Sprime,p)\n",
    "    plt.show()\n",
    "\n",
    "    # Compute Fully Constrained Least Squares\n",
    "    A = fcls_np(Y,Sprime,norms=Ynorm)\n",
    "    Agt = read_agt(matdict)\n",
    "    nx = math.floor(matdict['nx'])\n",
    "    mtx = compute_metrics(i,Sgt, Sprime, A, Agt)\n",
    "    plot_abundance(Agt,A,nx)\n",
    "    plot_all(Agt,A,nx,model,Sgt,Sprime,p,Sname)\n",
    "    plt.show()\n",
    "\n",
    "\n"
   ]
  }
 ],
 "metadata": {
  "kernelspec": {
   "display_name": "tf-gpu",
   "language": "python",
   "name": "tf-gpu"
  },
  "language_info": {
   "codemirror_mode": {
    "name": "ipython",
    "version": 3
   },
   "file_extension": ".py",
   "mimetype": "text/x-python",
   "name": "python",
   "nbconvert_exporter": "python",
   "pygments_lexer": "ipython3",
   "version": "3.8.5"
  }
 },
 "nbformat": 4,
 "nbformat_minor": 5
}
